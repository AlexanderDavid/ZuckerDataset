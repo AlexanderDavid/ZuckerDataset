{
 "cells": [
  {
   "cell_type": "code",
   "execution_count": 1,
   "metadata": {},
   "outputs": [],
   "source": [
    "import pandas as pd\n",
    "from pathlib import Path\n",
    "from map_reader import ZuckerDatasetMap, Controller, Scene\n",
    "from typing import Optional\n",
    "\n",
    "zdm = ZuckerDatasetMap(\"../data/map.csv\", \"../data/\")"
   ]
  },
  {
   "cell_type": "code",
   "execution_count": 2,
   "metadata": {},
   "outputs": [],
   "source": [
    "from matplotlib import pyplot as plt\n",
    "from matplotlib import animation as ani\n",
    "from IPython.display import HTML\n",
    "import numpy as np\n",
    "\n",
    "color = {\n",
    "    -1: \"black\",\n",
    "    3: \"blue\",\n",
    "    4: \"red\",\n",
    "    5: \"green\",\n",
    "    6: \"orange\",\n",
    "    7: \"purple\"\n",
    "}\n",
    "\n",
    "def get_rot(point: np.ndarray, angle: float) -> np.ndarray:\n",
    "    return np.array(\n",
    "        [\n",
    "            np.cos(angle) * point[0] - np.sin(angle) * point[1],\n",
    "            np.sin(angle) * point[0] + np.cos(angle) * point[1],\n",
    "        ]\n",
    "    )\n",
    "\n",
    "def plot(file: Path, align_to: Optional[int], additional_rot: float=0, ts: Optional[int]=None):\n",
    "    df = pd.read_csv(file)\n",
    "    plt.cla()\n",
    "\n",
    "    if align_to:\n",
    "        align_df = df[df[df.columns[0]] == align_to]\n",
    "        ix, iy = align_df[[\"x\", \"y\"]].values[0]\n",
    "        gx, gy = align_df[[\"x\", \"y\"]].values[-1]\n",
    "\n",
    "        # plt.scatter(ix, iy, label=\"robot_start\")\n",
    "        # plt.scatter(gx, gy, label=\"robot_goal\")\n",
    "\n",
    "        df[\"x\"] = df[\"x\"] - ix\n",
    "        df[\"y\"] = df[\"y\"] - iy\n",
    "\n",
    "        df[\"gx\"] = df[\"gx\"] - ix\n",
    "        df[\"gy\"] = df[\"gy\"] - iy\n",
    "\n",
    "        ax, ay = (gx - ix), (gy - iy)\n",
    "        heading = -np.arctan2(ay, ax) + additional_rot\n",
    "        \n",
    "        df[[\"x\", \"y\"]] = [get_rot(x, heading) for x in df[[\"x\", \"y\"]].values]\n",
    "\n",
    "\n",
    "    for idx in pd.unique(df[df.columns[0]]):\n",
    "        idx_df = df[df[df.columns[0]] == idx]\n",
    "        pos = idx_df[[\"x\", \"y\"]].values\n",
    "\n",
    "        if ts is None:\n",
    "            plt.plot(pos[:,0], pos[:,1], label=int(idx), c=color[idx])\n",
    "        else:\n",
    "            plt.plot(pos[:ts,0], pos[:ts,1], label=int(idx), c=color[idx])\n",
    "\n",
    "        plt.scatter(pos[ts,0], pos[ts,1], s=100, c=color[idx])\n",
    "\n",
    "        if idx != -1:\n",
    "            plt.scatter(pos[-1,0], pos[-1,1], s=100, c=color[idx], marker=\"X\")"
   ]
  },
  {
   "cell_type": "code",
   "execution_count": 9,
   "metadata": {},
   "outputs": [
    {
     "data": {
      "image/png": "[encoded data removed]",
      "text/plain": [
       "<Figure size 960x720 with 1 Axes>"
      ]
     },
     "metadata": {},
     "output_type": "display_data"
    }
   ],
   "source": [
    "plt.rcParams[\"animation.html\"] = \"jshtml\"\n",
    "plt.rcParams['figure.dpi'] = 150  \n",
    "\n",
    "renders = [\n",
    "    # (Scene.PERPENDICULAR, \"Perpendicular\", 3, np.pi / 2, 0),\n",
    "    # (Scene.ADJACENT, \"Adjacent\", 3, np.pi / 2, 0),\n",
    "    # (Scene.OPPOSITE, \"Opposite\", 3, np.pi / 2, 0),\n",
    "    # (Scene.INTERSECTION, \"Intersection\", 3, -np.pi/2, 3),\n",
    "    # (Scene.TWO_VS_ONE, \"Two vs One\", 3, -np.pi/2, 3),\n",
    "    # (Scene.OVERTAKE, \"Overtake\", 3, np.pi/2, 3),\n",
    "    (Scene.HEAD_TO_HEAD, \"Head to Head\", 3, np.pi/2, 0)\n",
    "]\n",
    "\n",
    "for s, t, idx, off, file_idx in renders:\n",
    "    files = list(zdm.get_by(idx=idx, scene=s)) #, controller=Controller.CADRL))\n",
    "    # print(len(files))\n",
    "    fig, ax = plt.subplots()\n",
    "    ax.get_xaxis().set_visible(False)\n",
    "    ax.get_yaxis().set_visible(False)\n",
    "    ax.axis(\"equal\")\n",
    "    fig.suptitle(t)\n",
    "    fig.tight_layout()\n",
    "    # ax.\n",
    "    skip = 10\n",
    "    frames = len(pd.unique(pd.read_csv(files[file_idx])[\"ts\"])) // skip\n",
    "\n",
    "    a = ani.FuncAnimation(fig, lambda t: plot(files[file_idx], idx, off, t*skip), frames=frames, interval=((1 / 60) * 1000) * skip)\n",
    "    a.save(f\"../figures/{''.join(t.split()).lower()}.gif\")"
   ]
  }
 ],
 "metadata": {
  "kernelspec": {
   "display_name": "ZuckerDataset-b2dzgZS-",
   "language": "python",
   "name": "python3"
  },
  "language_info": {
   "codemirror_mode": {
    "name": "ipython",
    "version": 3
   },
   "file_extension": ".py",
   "mimetype": "text/x-python",
   "name": "python",
   "nbconvert_exporter": "python",
   "pygments_lexer": "ipython3",
   "version": "3.11.2"
  },
  "orig_nbformat": 4
 },
 "nbformat": 4,
 "nbformat_minor": 2
}
